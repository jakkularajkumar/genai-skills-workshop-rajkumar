{
  "cells": [
    {
      "cell_type": "markdown",
      "source": [
        "\n",
        "1. Created a Table name called AuroraBayAlaska in BigQuery using the Console\n",
        "\n",
        "2. Generated Embeddings using below query in console\n",
        "\n",
        "```\n",
        "CREATE OR REPLACE MODEL `AuroraBayAlaska.Embeddings`\n",
        "REMOTE WITH CONNECTION `us.embedding_conn`\n",
        "OPTIONS (ENDPOINT = 'text-embedding-005');\n",
        "```\n",
        "\n",
        "3. uploaded the dataset from a CSV file,\n",
        "```\n",
        "LOAD DATA OVERWRITE AuroraBayAlaska.faq_data\n",
        "FROM FILES (\n",
        "    format = 'CSV',\n",
        "    uris = ['gs://labs.roitraining.com/aurora-bay-faqs/aurora-bay-faqs.csv']\n",
        ");\n",
        "```\n",
        "4. generate embeddings using below query\n",
        "```\n",
        "CREATE OR REPLACE TABLE `AuroraBayAlaska.faq_data_embedded` AS\n",
        "SELECT *\n",
        "FROM ML.GENERATE_EMBEDDING(\n",
        "    MODEL `AuroraBayAlaska.Embeddings`,\n",
        "    (SELECT CONCAT(string_field_0, ' ', string_field_1)  AS content  FROM `qwiklabs-gcp-02-8fc93094313c.AuroraBayAlaska.faq_data`)\n",
        ")\n",
        "```\n",
        "\n",
        "\n",
        "\n"
      ],
      "metadata": {
        "id": "wpne4Ym_Mx_h"
      },
      "id": "wpne4Ym_Mx_h"
    },
    {
      "cell_type": "code",
      "source": [
        "from vertexai import init\n",
        "from vertexai.preview.generative_models import GenerativeModel\n",
        "import pandas as pd\n",
        "from google.cloud import bigquery"
      ],
      "metadata": {
        "id": "0pKBXxOYGTad"
      },
      "id": "0pKBXxOYGTad",
      "execution_count": 9,
      "outputs": []
    },
    {
      "cell_type": "code",
      "source": [
        "init(project=\"qwiklabs-gcp-02-8fc93094313c\", location=\"global\")"
      ],
      "metadata": {
        "id": "7g9A472OLW9M"
      },
      "id": "7g9A472OLW9M",
      "execution_count": 10,
      "outputs": []
    },
    {
      "cell_type": "code",
      "source": [
        "bq_client = bigquery.Client(project=\"qwiklabs-gcp-02-8fc93094313c\")"
      ],
      "metadata": {
        "id": "5G9pdmb8ImFC"
      },
      "id": "5G9pdmb8ImFC",
      "execution_count": 11,
      "outputs": []
    },
    {
      "cell_type": "code",
      "source": [
        "def vector_search_data(user_query):\n",
        "    search_sql = f\"\"\"\n",
        "    CREATE OR REPLACE TABLE `AuroraBayAlaska.faq_result` AS\n",
        "    SELECT\n",
        "        query.query,\n",
        "        base.content\n",
        "    FROM\n",
        "        VECTOR_SEARCH(\n",
        "            TABLE `AuroraBayAlaska.faq_data_embedded`,\n",
        "            'ml_generate_embedding_result',\n",
        "            (\n",
        "                SELECT\n",
        "                    ml_generate_embedding_result,\n",
        "                    content AS query\n",
        "                FROM\n",
        "                    ML.GENERATE_EMBEDDING(\n",
        "                        MODEL `AuroraBayAlaska.Embeddings`,\n",
        "                        (SELECT '{user_query}' AS content)\n",
        "                    )\n",
        "            ),\n",
        "            top_k => 5,\n",
        "            options => '{{\"fraction_lists_to_search\": 1.0}}'\n",
        "        );\n",
        "    \"\"\"\n",
        "    bq_client.query(search_sql).result()"
      ],
      "metadata": {
        "id": "75JZTSGeIeRK"
      },
      "id": "75JZTSGeIeRK",
      "execution_count": 16,
      "outputs": []
    },
    {
      "cell_type": "code",
      "id": "NmBBPTWgRlGIu5uKxnfXLuqo",
      "metadata": {
        "tags": [],
        "id": "NmBBPTWgRlGIu5uKxnfXLuqo"
      },
      "source": [
        "def get_response_from_gemini():\n",
        "    result_df = bq_client.query(\"SELECT * FROM `AuroraBayAlaska.faq_result`\").to_dataframe()\n",
        "\n",
        "    context = \"\\n\\n\".join(\n",
        "        result_df.apply(lambda row: f\"Q: {row['query']}\\nA: {row['content']}\", axis=1)\n",
        "    )\n",
        "\n",
        "    prompt = (\n",
        "        \"You are an assistant for Aurora Bay. Answer clearly and professionally using only the provided context. If the answer isn’t supported by the context, respond with: “Not able to answer your query.”\"\n",
        "        f\"{context}\"\n",
        "    )\n",
        "\n",
        "    gemini_model = GenerativeModel(\"gemini-2.5-pro-preview-06-05\")\n",
        "    response = gemini_model.generate_content(prompt)\n",
        "    return response.text.strip()"
      ],
      "execution_count": 17,
      "outputs": []
    },
    {
      "cell_type": "code",
      "source": [
        "user_input = \"where is aurora bay located\"\n",
        "\n",
        "vector_search_data(user_input)\n",
        "\n",
        "response = get_response_from_gemini()\n",
        "\n",
        "print(\"Gemini Response:\", response)"
      ],
      "metadata": {
        "colab": {
          "base_uri": "https://localhost:8080/"
        },
        "id": "OGlPrkEaGYl8",
        "outputId": "87d01cdc-3cf7-45ed-ff63-f4e8a372e61d"
      },
      "id": "OGlPrkEaGYl8",
      "execution_count": 18,
      "outputs": [
        {
          "output_type": "stream",
          "name": "stdout",
          "text": [
            "Gemini Response: Not able to answer your query.\n"
          ]
        }
      ]
    },
    {
      "cell_type": "code",
      "source": [
        "user_input = \"How can I apply for a business license in Aurora Bay?\"\n",
        "\n",
        "vector_search_data(user_input)\n",
        "\n",
        "response = get_response_from_gemini()\n",
        "\n",
        "print(\"Response:\", response)"
      ],
      "metadata": {
        "colab": {
          "base_uri": "https://localhost:8080/"
        },
        "id": "aj0VoXTjMkyE",
        "outputId": "4c92a91b-35a0-46ed-e587-ea654d785688"
      },
      "id": "aj0VoXTjMkyE",
      "execution_count": 15,
      "outputs": [
        {
          "output_type": "stream",
          "name": "stdout",
          "text": [
            "Response: Applications for a business license can be submitted either online via the town’s official website or in person at the Town Hall. Processing takes around 2–3 weeks.\n"
          ]
        }
      ]
    },
    {
      "cell_type": "code",
      "source": [],
      "metadata": {
        "id": "2oqdFMe_MmuP"
      },
      "id": "2oqdFMe_MmuP",
      "execution_count": 15,
      "outputs": []
    }
  ],
  "metadata": {
    "kernelspec": {
      "display_name": "Python 3",
      "language": "python",
      "name": "python3"
    },
    "language_info": {
      "codemirror_mode": {
        "name": "ipython",
        "version": 3
      },
      "file_extension": ".py",
      "mimetype": "text/x-python",
      "name": "python",
      "nbconvert_exporter": "python",
      "pygments_lexer": "ipython3",
      "version": "3.10.10"
    },
    "colab": {
      "provenance": [],
      "name": "student-03-6dea000b55fb (Jun 16, 2025, 2:52:05 PM)"
    }
  },
  "nbformat": 4,
  "nbformat_minor": 5
}