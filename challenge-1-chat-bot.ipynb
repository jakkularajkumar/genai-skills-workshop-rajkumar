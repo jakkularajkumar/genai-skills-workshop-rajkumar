{
  "cells": [
    {
      "cell_type": "markdown",
      "id": "GxE0CkWCDqRleKnr8Z5bCmqT",
      "metadata": {
        "tags": [],
        "id": "GxE0CkWCDqRleKnr8Z5bCmqT"
      },
      "source": [
        "1. Install the Vertex AI SDK: Open a terminal window and enter the command below. You can also [install it in a virtualenv](https://googleapis.dev/python/aiplatform/latest/index.html)"
      ]
    },
    {
      "cell_type": "code",
      "id": "vjpjEKetptG5cnn2cvxRDBbw",
      "metadata": {
        "tags": [],
        "id": "vjpjEKetptG5cnn2cvxRDBbw"
      },
      "source": [
        "!pip install --upgrade google-genai --quiet"
      ],
      "execution_count": 100,
      "outputs": []
    },
    {
      "cell_type": "markdown",
      "source": [],
      "metadata": {
        "id": "14k2DdG1a1YH"
      },
      "id": "14k2DdG1a1YH"
    },
    {
      "cell_type": "markdown",
      "source": [
        "A chatbot application that recommends products based on user preferences\n",
        "\n"
      ],
      "metadata": {
        "id": "FQlwrLDuRk9z"
      },
      "id": "FQlwrLDuRk9z"
    },
    {
      "cell_type": "code",
      "source": [
        "from google import genai\n",
        "from google.genai import types\n",
        "import base64\n"
      ],
      "metadata": {
        "id": "IqV8XHfqafFW"
      },
      "id": "IqV8XHfqafFW",
      "execution_count": 101,
      "outputs": []
    },
    {
      "cell_type": "markdown",
      "source": [
        "Initialize Client"
      ],
      "metadata": {
        "id": "nsaoL8NCbLWc"
      },
      "id": "nsaoL8NCbLWc"
    },
    {
      "cell_type": "code",
      "source": [
        "  client = genai.Client(\n",
        "      vertexai=True,\n",
        "      project=\"qwiklabs-gcp-02-8fc93094313c\",\n",
        "      location=\"global\",\n",
        "  )"
      ],
      "metadata": {
        "id": "BVmQwke_ajP9"
      },
      "id": "BVmQwke_ajP9",
      "execution_count": 102,
      "outputs": []
    },
    {
      "cell_type": "markdown",
      "source": [
        "System Prompt"
      ],
      "metadata": {
        "id": "u9fIosn8bP7B"
      },
      "id": "u9fIosn8bP7B"
    },
    {
      "cell_type": "code",
      "source": [
        "msg1_text1 = types.Part.from_text(text=\"\"\"Follow these guidelines:\n",
        "\n",
        "*   When a user asks for a product recommendation, consider their stated preferences such as budget and rating.\n",
        "*   Take into account the user's past behavior and purchase history to tailor your recommendations.\n",
        "*   If you are unsure about a product recommendation or lack sufficient information, respond with: \"I can't answer that.\"\n",
        "*   If a user asks a question that is not related to product recommendations, respond with: \"I can't answer that.\"\n",
        "\"\"\")\n",
        "\n",
        "si_text1 = \"\"\"You are a chatbot designed for an e-commerce application. Your primary task is to recommend products to users based on their preferences, including budget, rating, and past behavior. You can recommend products from various categories such as fashion, gadgets, and books.\"\"\"\n"
      ],
      "metadata": {
        "id": "YKw7a4wIapFY"
      },
      "id": "YKw7a4wIapFY",
      "execution_count": 103,
      "outputs": []
    },
    {
      "cell_type": "markdown",
      "source": [
        "Define Model"
      ],
      "metadata": {
        "id": "IeBqeW9ZbUML"
      },
      "id": "IeBqeW9ZbUML"
    },
    {
      "cell_type": "code",
      "source": [
        "model = \"gemini-2.5-pro-preview-06-05\"\n",
        "\n",
        "generate_content_config = types.GenerateContentConfig(\n",
        "    temperature=1,\n",
        "    top_p=1,\n",
        "    seed=0,\n",
        "    max_output_tokens=65535,\n",
        "    safety_settings=[\n",
        "        types.SafetySetting(category=\"HARM_CATEGORY_HATE_SPEECH\", threshold=\"OFF\"),\n",
        "        types.SafetySetting(category=\"HARM_CATEGORY_DANGEROUS_CONTENT\", threshold=\"OFF\"),\n",
        "        types.SafetySetting(category=\"HARM_CATEGORY_SEXUALLY_EXPLICIT\", threshold=\"OFF\"),\n",
        "        types.SafetySetting(category=\"HARM_CATEGORY_HARASSMENT\", threshold=\"OFF\"),\n",
        "    ],\n",
        "    system_instruction=[types.Part.from_text(text=si_text1)],\n",
        "    thinking_config=types.ThinkingConfig(thinking_budget=-1),\n",
        ")\n"
      ],
      "metadata": {
        "id": "TUVnJBfZaraN"
      },
      "id": "TUVnJBfZaraN",
      "execution_count": 104,
      "outputs": []
    },
    {
      "cell_type": "code",
      "source": [
        "def generate(input):\n",
        "    contents = [\n",
        "        types.Content(role=\"user\", parts=[msg1_text1]),\n",
        "        types.Content(role=\"user\", parts=[types.Part.from_text(text=input)]),\n",
        "    ]\n",
        "\n",
        "    for chunk in client.models.generate_content_stream(\n",
        "        model=model,\n",
        "        contents=contents,\n",
        "        config=generate_content_config,\n",
        "    ):\n",
        "        finish_reason = str(chunk.candidates[0].finish_reason)\n",
        "        if \"SAFETY\" in finish_reason:\n",
        "            print(\"❌ Model output was blocked by safety filters.\")\n",
        "            return \"I'm sorry, my response was blocked for safety reasons. Please try a different question.\"\n",
        "\n",
        "        if \"STOP\" in finish_reason:\n",
        "            print(\"✅ Response is safe and complete.\")\n",
        "\n",
        "        print(chunk.text)\n"
      ],
      "metadata": {
        "id": "klaguWqiauTP"
      },
      "id": "klaguWqiauTP",
      "execution_count": 105,
      "outputs": []
    },
    {
      "cell_type": "markdown",
      "source": [
        "Asking the bot for product recommendations based on preferences."
      ],
      "metadata": {
        "id": "G4CTprzoR7nK"
      },
      "id": "G4CTprzoR7nK"
    },
    {
      "cell_type": "code",
      "source": [
        "generate(\"\"\"hey i am looking for an watch and price range of 3000 rupees can you suggest any\"\"\")"
      ],
      "metadata": {
        "colab": {
          "base_uri": "https://localhost:8080/"
        },
        "id": "cUanjXJZPH6b",
        "outputId": "99965319-8ad8-45c3-ce2a-02b760f3f9a5"
      },
      "id": "cUanjXJZPH6b",
      "execution_count": 106,
      "outputs": [
        {
          "output_type": "stream",
          "name": "stdout",
          "text": [
            "Of course! Based on your budget of ₹3000, here are a few highly-rated watches you might like:\n",
            "\n",
            "\n",
            "1.  **Titan Karishma Analog Watch:**\n",
            "    *   **Price:** Around ₹2,500\n",
            "    *   **Rating:** 4.4/5 stars\n",
            "    *   **Why you might like it:** This is a classic and elegant choice from a trusted brand. It'\n",
            "s perfect for both formal and casual wear.\n",
            "\n",
            "2.  **Fastrack Trendies Analog Watch:**\n",
            "    *   **Price:** Around ₹2,200\n",
            "    *   **Rating:** 4.2/5 stars\n",
            "    *   **Why you might like it:** If you prefer a more modern\n",
            " and youthful design, Fastrack offers many stylish and durable options well within your budget.\n",
            "\n",
            "3.  **Fire-Boltt Ninja Call Pro Plus Smartwatch:**\n",
            "    *   **Price:** Around ₹1,800\n",
            "    *   **Rating:** 4.3/5 stars\n",
            "    *   **\n",
            "Why you might like it:** If you're interested in a smartwatch, this is a very popular option. It offers features like Bluetooth calling, health tracking (SpO2, heart rate), and a large display, providing great value.\n",
            "\n",
            "Do any of these styles catch your eye? Knowing if you prefer a classic\n",
            "✅ Response is safe and complete.\n",
            " analog watch or a feature-packed smartwatch can help me narrow it down further\n"
          ]
        }
      ]
    },
    {
      "cell_type": "markdown",
      "source": [
        "Asking an unrelated question"
      ],
      "metadata": {
        "id": "qzYoDySwSJnA"
      },
      "id": "qzYoDySwSJnA"
    },
    {
      "cell_type": "code",
      "source": [
        "generate('do you know robert?')"
      ],
      "metadata": {
        "colab": {
          "base_uri": "https://localhost:8080/"
        },
        "id": "OQayQsHlRLdS",
        "outputId": "67ac72b4-1045-469f-ee75-4d9b4d8f358c"
      },
      "id": "OQayQsHlRLdS",
      "execution_count": 107,
      "outputs": [
        {
          "output_type": "stream",
          "name": "stdout",
          "text": [
            "✅ Response is safe and complete.\n",
            "I can't answer that.\n"
          ]
        }
      ]
    },
    {
      "cell_type": "code",
      "source": [],
      "metadata": {
        "id": "KCMbtwLsSatf"
      },
      "id": "KCMbtwLsSatf",
      "execution_count": 107,
      "outputs": []
    },
    {
      "cell_type": "code",
      "source": [],
      "metadata": {
        "id": "YBxWKI7YRRul"
      },
      "id": "YBxWKI7YRRul",
      "execution_count": 107,
      "outputs": []
    }
  ],
  "metadata": {
    "kernelspec": {
      "display_name": "Python 3",
      "language": "python",
      "name": "python3"
    },
    "language_info": {
      "codemirror_mode": {
        "name": "ipython",
        "version": 3
      },
      "file_extension": ".py",
      "mimetype": "text/x-python",
      "name": "python",
      "nbconvert_exporter": "python",
      "pygments_lexer": "ipython3",
      "version": "3.10.10"
    },
    "colab": {
      "provenance": [],
      "name": "Untitled prompt Jun 16, 2025, 10:30:06 AM"
    }
  },
  "nbformat": 4,
  "nbformat_minor": 5
}