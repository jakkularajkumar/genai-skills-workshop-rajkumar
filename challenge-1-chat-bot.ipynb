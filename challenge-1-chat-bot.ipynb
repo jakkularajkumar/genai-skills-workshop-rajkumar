{
  "cells": [
    {
      "cell_type": "markdown",
      "id": "GxE0CkWCDqRleKnr8Z5bCmqT",
      "metadata": {
        "tags": [],
        "id": "GxE0CkWCDqRleKnr8Z5bCmqT"
      },
      "source": [
        "1. Install the Vertex AI SDK: Open a terminal window and enter the command below. You can also [install it in a virtualenv](https://googleapis.dev/python/aiplatform/latest/index.html)"
      ]
    },
    {
      "cell_type": "code",
      "id": "vjpjEKetptG5cnn2cvxRDBbw",
      "metadata": {
        "tags": [],
        "id": "vjpjEKetptG5cnn2cvxRDBbw",
        "colab": {
          "base_uri": "https://localhost:8080/"
        },
        "outputId": "1b6fdfff-e546-49b4-f33d-1fff5900ae6b"
      },
      "source": [
        "!pip install --upgrade google-genai"
      ],
      "execution_count": 78,
      "outputs": [
        {
          "output_type": "stream",
          "name": "stdout",
          "text": [
            "Requirement already satisfied: google-genai in /usr/local/lib/python3.11/dist-packages (1.20.0)\n",
            "Requirement already satisfied: anyio<5.0.0,>=4.8.0 in /usr/local/lib/python3.11/dist-packages (from google-genai) (4.9.0)\n",
            "Requirement already satisfied: google-auth<3.0.0,>=2.14.1 in /usr/local/lib/python3.11/dist-packages (from google-genai) (2.38.0)\n",
            "Requirement already satisfied: httpx<1.0.0,>=0.28.1 in /usr/local/lib/python3.11/dist-packages (from google-genai) (0.28.1)\n",
            "Requirement already satisfied: pydantic<3.0.0,>=2.0.0 in /usr/local/lib/python3.11/dist-packages (from google-genai) (2.11.5)\n",
            "Requirement already satisfied: requests<3.0.0,>=2.28.1 in /usr/local/lib/python3.11/dist-packages (from google-genai) (2.32.3)\n",
            "Requirement already satisfied: websockets<15.1.0,>=13.0.0 in /usr/local/lib/python3.11/dist-packages (from google-genai) (15.0.1)\n",
            "Requirement already satisfied: typing-extensions<5.0.0,>=4.11.0 in /usr/local/lib/python3.11/dist-packages (from google-genai) (4.13.2)\n",
            "Requirement already satisfied: idna>=2.8 in /usr/local/lib/python3.11/dist-packages (from anyio<5.0.0,>=4.8.0->google-genai) (3.10)\n",
            "Requirement already satisfied: sniffio>=1.1 in /usr/local/lib/python3.11/dist-packages (from anyio<5.0.0,>=4.8.0->google-genai) (1.3.1)\n",
            "Requirement already satisfied: cachetools<6.0,>=2.0.0 in /usr/local/lib/python3.11/dist-packages (from google-auth<3.0.0,>=2.14.1->google-genai) (5.5.2)\n",
            "Requirement already satisfied: pyasn1-modules>=0.2.1 in /usr/local/lib/python3.11/dist-packages (from google-auth<3.0.0,>=2.14.1->google-genai) (0.4.2)\n",
            "Requirement already satisfied: rsa<5,>=3.1.4 in /usr/local/lib/python3.11/dist-packages (from google-auth<3.0.0,>=2.14.1->google-genai) (4.9.1)\n",
            "Requirement already satisfied: certifi in /usr/local/lib/python3.11/dist-packages (from httpx<1.0.0,>=0.28.1->google-genai) (2025.4.26)\n",
            "Requirement already satisfied: httpcore==1.* in /usr/local/lib/python3.11/dist-packages (from httpx<1.0.0,>=0.28.1->google-genai) (1.0.9)\n",
            "Requirement already satisfied: h11>=0.16 in /usr/local/lib/python3.11/dist-packages (from httpcore==1.*->httpx<1.0.0,>=0.28.1->google-genai) (0.16.0)\n",
            "Requirement already satisfied: annotated-types>=0.6.0 in /usr/local/lib/python3.11/dist-packages (from pydantic<3.0.0,>=2.0.0->google-genai) (0.7.0)\n",
            "Requirement already satisfied: pydantic-core==2.33.2 in /usr/local/lib/python3.11/dist-packages (from pydantic<3.0.0,>=2.0.0->google-genai) (2.33.2)\n",
            "Requirement already satisfied: typing-inspection>=0.4.0 in /usr/local/lib/python3.11/dist-packages (from pydantic<3.0.0,>=2.0.0->google-genai) (0.4.1)\n",
            "Requirement already satisfied: charset-normalizer<4,>=2 in /usr/local/lib/python3.11/dist-packages (from requests<3.0.0,>=2.28.1->google-genai) (3.4.2)\n",
            "Requirement already satisfied: urllib3<3,>=1.21.1 in /usr/local/lib/python3.11/dist-packages (from requests<3.0.0,>=2.28.1->google-genai) (2.4.0)\n",
            "Requirement already satisfied: pyasn1<0.7.0,>=0.6.1 in /usr/local/lib/python3.11/dist-packages (from pyasn1-modules>=0.2.1->google-auth<3.0.0,>=2.14.1->google-genai) (0.6.1)\n"
          ]
        }
      ]
    },
    {
      "cell_type": "markdown",
      "id": "H4ZuFl1ioV6PoUob2o3dLdeI",
      "metadata": {
        "tags": [],
        "id": "H4ZuFl1ioV6PoUob2o3dLdeI"
      },
      "source": [
        "Sample genai logic to create a chatbot\n",
        "\n"
      ]
    },
    {
      "cell_type": "code",
      "id": "74JshPZG40ObCLgjuE0BmEG6",
      "metadata": {
        "tags": [],
        "id": "74JshPZG40ObCLgjuE0BmEG6"
      },
      "source": [
        "from google import genai\n",
        "from google.genai import types\n",
        "import base64\n",
        "\n",
        "def generate():\n",
        "  client = genai.Client(\n",
        "      vertexai=True,\n",
        "      project=\"qwiklabs-gcp-02-8fc93094313c\",\n",
        "      location=\"global\",\n",
        "  )\n",
        "\n",
        "  msg1_text1 = types.Part.from_text(text=\"\"\"Follow these guidelines:\n",
        "\n",
        "*   When a user asks for a product recommendation, consider their stated preferences such as budget and rating.\n",
        "*   Take into account the user's past behavior and purchase history to tailor your recommendations.\n",
        "*   If you are unsure about a product recommendation or lack sufficient information, respond with: \\\"I can't answer that.\\\"\n",
        "*   If a user asks a question that is not related to product recommendations, respond with: \\\"I can't answer that.\\\"\"\"\")\n",
        "  si_text1 = \"\"\"You are a chatbot designed for an e-commerce application. Your primary task is to recommend products to users based on their preferences, including budget, rating, and past behavior. You can recommend products from various categories such as fashion, gadgets, and books.\"\"\"\n",
        "\n",
        "  model = \"gemini-2.5-pro-preview-06-05\"\n",
        "  contents = [\n",
        "    types.Content(\n",
        "      role=\"user\",\n",
        "      parts=[\n",
        "        msg1_text1\n",
        "      ]\n",
        "    ),\n",
        "  ]\n",
        "\n",
        "  generate_content_config = types.GenerateContentConfig(\n",
        "    temperature = 1,\n",
        "    top_p = 1,\n",
        "    seed = 0,\n",
        "    max_output_tokens = 65535,\n",
        "    safety_settings = [types.SafetySetting(\n",
        "      category=\"HARM_CATEGORY_HATE_SPEECH\",\n",
        "      threshold=\"OFF\"\n",
        "    ),types.SafetySetting(\n",
        "      category=\"HARM_CATEGORY_DANGEROUS_CONTENT\",\n",
        "      threshold=\"OFF\"\n",
        "    ),types.SafetySetting(\n",
        "      category=\"HARM_CATEGORY_SEXUALLY_EXPLICIT\",\n",
        "      threshold=\"OFF\"\n",
        "    ),types.SafetySetting(\n",
        "      category=\"HARM_CATEGORY_HARASSMENT\",\n",
        "      threshold=\"OFF\"\n",
        "    )],\n",
        "    system_instruction=[types.Part.from_text(text=si_text1)],\n",
        "    thinking_config=types.ThinkingConfig(\n",
        "      thinking_budget=-1,\n",
        "    ),\n",
        "  )\n",
        "\n",
        "  for chunk in client.models.generate_content_stream(\n",
        "    model = model,\n",
        "    contents = contents,\n",
        "    config = generate_content_config,\n",
        "    ):\n",
        "    print(chunk.text, end=\"\")\n",
        "\n"
      ],
      "execution_count": 79,
      "outputs": []
    },
    {
      "cell_type": "code",
      "source": [
        "generate()"
      ],
      "metadata": {
        "colab": {
          "base_uri": "https://localhost:8080/"
        },
        "id": "xLBd1bmYPwbP",
        "outputId": "93f684cd-0df1-49a4-8e3d-cd3097958e40"
      },
      "id": "xLBd1bmYPwbP",
      "execution_count": 80,
      "outputs": [
        {
          "output_type": "stream",
          "name": "stdout",
          "text": [
            "Understood. I will follow these guidelines. I'm ready to help you find the perfect product.\n",
            "\n",
            "How can I help you today?"
          ]
        }
      ]
    },
    {
      "cell_type": "markdown",
      "source": [
        "A chatbot application that recommends products based on user preferences\n",
        "\n"
      ],
      "metadata": {
        "id": "FQlwrLDuRk9z"
      },
      "id": "FQlwrLDuRk9z"
    },
    {
      "cell_type": "code",
      "source": [
        "from google import genai\n",
        "from google.genai import types\n",
        "import base64\n",
        "\n",
        "def generate(input):\n",
        "  client = genai.Client(\n",
        "      vertexai=True,\n",
        "      project=\"qwiklabs-gcp-02-8fc93094313c\",\n",
        "      location=\"global\",\n",
        "  )\n",
        "\n",
        "  msg1_text1 = types.Part.from_text(text=\"\"\"Follow these guidelines:\n",
        "\n",
        "*   When a user asks for a product recommendation, consider their stated preferences such as budget and rating.\n",
        "*   Take into account the user's past behavior and purchase history to tailor your recommendations.\n",
        "*   If you are unsure about a product recommendation or lack sufficient information, respond with: \\\"I can't answer that.\\\"\n",
        "*   If a user asks a question that is not related to product recommendations, respond with: \\\"I can't answer that.\\\"\"\"\")\n",
        "  si_text1 = \"\"\"You are a chatbot designed for an e-commerce application. Your primary task is to recommend products to users based on their preferences, including budget, rating, and past behavior. You can recommend products from various categories such as fashion, gadgets, and books.\"\"\"\n",
        "\n",
        "  model = \"gemini-2.5-pro-preview-06-05\"\n",
        "  contents = [\n",
        "    types.Content(\n",
        "      role=\"user\",\n",
        "      parts=[\n",
        "        msg1_text1\n",
        "      ]\n",
        "    ),\n",
        "    types.Content(\n",
        "      role=\"user\",\n",
        "      parts=[\n",
        "        types.Part.from_text(text=input)\n",
        "      ]\n",
        "    ),\n",
        "\n",
        "  ]\n",
        "\n",
        "  generate_content_config = types.GenerateContentConfig(\n",
        "    temperature = 1,\n",
        "    top_p = 1,\n",
        "    seed = 0,\n",
        "    max_output_tokens = 65535,\n",
        "    safety_settings = [types.SafetySetting(\n",
        "      category=\"HARM_CATEGORY_HATE_SPEECH\",\n",
        "      threshold=\"OFF\"\n",
        "    ),types.SafetySetting(\n",
        "      category=\"HARM_CATEGORY_DANGEROUS_CONTENT\",\n",
        "      threshold=\"OFF\"\n",
        "    ),types.SafetySetting(\n",
        "      category=\"HARM_CATEGORY_SEXUALLY_EXPLICIT\",\n",
        "      threshold=\"OFF\"\n",
        "    ),types.SafetySetting(\n",
        "      category=\"HARM_CATEGORY_HARASSMENT\",\n",
        "      threshold=\"OFF\"\n",
        "    )],\n",
        "    system_instruction=[types.Part.from_text(text=si_text1)],\n",
        "    thinking_config=types.ThinkingConfig(\n",
        "      thinking_budget=-1,\n",
        "    ),\n",
        "  )\n",
        "\n",
        "  for chunk in client.models.generate_content_stream(\n",
        "    model = model,\n",
        "    contents = contents,\n",
        "    config = generate_content_config,\n",
        "    ):\n",
        "    finish_reason = str(chunk.candidates[0].finish_reason)\n",
        "    if \"SAFETY\" in finish_reason:\n",
        "        print(\"❌ Model output was blocked by safety filters.\")\n",
        "        return \"I'm sorry, my response was blocked for safety reasons. Please try a different question.\"\n",
        "\n",
        "    if \"STOP\" in finish_reason:\n",
        "        print(\"✅ Response is safe and complete.\")\n",
        "\n",
        "    print(chunk.text)\n",
        "\n"
      ],
      "metadata": {
        "id": "mhwsJABvPfTa"
      },
      "id": "mhwsJABvPfTa",
      "execution_count": 81,
      "outputs": []
    },
    {
      "cell_type": "markdown",
      "source": [
        "Asking the bot for product recommendations based on preferences."
      ],
      "metadata": {
        "id": "G4CTprzoR7nK"
      },
      "id": "G4CTprzoR7nK"
    },
    {
      "cell_type": "code",
      "source": [
        "generate(\"\"\"hey i am looking for an watch and price range of 2000 rupees can you suggest any\"\"\")"
      ],
      "metadata": {
        "colab": {
          "base_uri": "https://localhost:8080/"
        },
        "id": "cUanjXJZPH6b",
        "outputId": "6f86dade-cf13-4a0c-ff81-b4ffea7676cf"
      },
      "id": "cUanjXJZPH6b",
      "execution_count": 82,
      "outputs": [
        {
          "output_type": "stream",
          "name": "stdout",
          "text": [
            "Of\n",
            " course! Based on your budget of ₹2000, here are a few highly-rated watch recommendations:\n",
            "\n",
            "1.  **Fastrack Analog Black Dial Men's Watch**: A very popular choice for its stylish and modern design. It's durable and suitable for both casual and formal wear. It is\n",
            " typically priced around ₹1,899.\n",
            "\n",
            "2.  **Noise ColorFit Pulse Smartwatch**: If you're interested in a smartwatch, this is a great entry-level option. It offers features like heart rate monitoring, sleep tracking, and multiple sports modes, all within your budget. You can usually find it\n",
            " for about ₹1,799.\n",
            "\n",
            "3.  **Casio Youth Series Digital Watch**: For a classic, reliable digital watch, this Casio model is an excellent pick. It's known for its long battery life, water resistance, and features like a stopwatch and alarm. It is priced at approximately ₹1,\n",
            "✅ Response is safe and complete.\n",
            "995.\n",
            "\n",
            "Do any of these styles appeal to you? Knowing if you prefer an analog, digital, or smartwatch can help me narrow it down further\n"
          ]
        }
      ]
    },
    {
      "cell_type": "markdown",
      "source": [
        "Asking an unrelated question"
      ],
      "metadata": {
        "id": "qzYoDySwSJnA"
      },
      "id": "qzYoDySwSJnA"
    },
    {
      "cell_type": "code",
      "source": [
        "generate('do you know robert?')"
      ],
      "metadata": {
        "colab": {
          "base_uri": "https://localhost:8080/"
        },
        "id": "OQayQsHlRLdS",
        "outputId": "18c459cc-eab6-4e5e-cc6b-ca0d25871128"
      },
      "id": "OQayQsHlRLdS",
      "execution_count": 83,
      "outputs": [
        {
          "output_type": "stream",
          "name": "stdout",
          "text": [
            "✅ Response is safe and complete.\n",
            "I can't answer that.\n"
          ]
        }
      ]
    },
    {
      "cell_type": "code",
      "source": [],
      "metadata": {
        "id": "KCMbtwLsSatf"
      },
      "id": "KCMbtwLsSatf",
      "execution_count": 83,
      "outputs": []
    },
    {
      "cell_type": "code",
      "source": [],
      "metadata": {
        "id": "YBxWKI7YRRul"
      },
      "id": "YBxWKI7YRRul",
      "execution_count": 83,
      "outputs": []
    }
  ],
  "metadata": {
    "kernelspec": {
      "display_name": "Python 3",
      "language": "python",
      "name": "python3"
    },
    "language_info": {
      "codemirror_mode": {
        "name": "ipython",
        "version": 3
      },
      "file_extension": ".py",
      "mimetype": "text/x-python",
      "name": "python",
      "nbconvert_exporter": "python",
      "pygments_lexer": "ipython3",
      "version": "3.10.10"
    },
    "colab": {
      "provenance": [],
      "name": "Untitled prompt Jun 16, 2025, 10:30:06 AM"
    }
  },
  "nbformat": 4,
  "nbformat_minor": 5
}