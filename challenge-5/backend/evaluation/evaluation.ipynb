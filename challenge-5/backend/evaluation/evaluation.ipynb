{
  "cells": [
    {
      "cell_type": "code",
      "execution_count": null,
      "id": "vjpjEKetptG5cnn2cvxRDBbw",
      "metadata": {
        "id": "vjpjEKetptG5cnn2cvxRDBbw",
        "tags": []
      },
      "outputs": [],
      "source": [
        "from vertexai.evaluation import (\n",
        "    EvalTask,\n",
        "    PointwiseMetric,\n",
        "    PairwiseMetric,\n",
        "    PointwiseMetricPromptTemplate,\n",
        "    PairwiseMetricPromptTemplate,\n",
        "    MetricPromptTemplateExamples,\n",
        ")\n",
        "from vertexai.generative_models import (\n",
        "    GenerativeModel,\n",
        "    HarmCategory,\n",
        "    HarmBlockThreshold,\n",
        ")\n",
        "import pandas as pd\n",
        "import plotly.graph_objects as go\n",
        "from IPython.display import HTML, Markdown, display\n",
        "import datetime"
      ]
    },
    {
      "cell_type": "code",
      "execution_count": null,
      "id": "IqV8XHfqafFW",
      "metadata": {
        "id": "IqV8XHfqafFW"
      },
      "outputs": [],
      "source": [
        "samples = [\n",
        "      {\n",
        "        \"question\": \"How can residents report unplowed roads?\", \n",
        "        \"response\": \"Residents can report unplowed roads using the 'Report an Issue' feature in the SnowLine app or by calling the ADS hotline.\",\n",
        "        \"context\": \"If a road remains unplowed past its scheduled window, residents are encouraged to use the 'Report an Issue' button in the SnowLine mobile app or call the ADS hotline to submit a service request.\"\n",
        "    },\n",
        "    {\n",
        "        \"question\": \"What is the usual snow plow schedule for urban areas?\", \n",
        "        \"response\": \"In urban areas, snow plows typically operate on a 4-hour rotation during active snowfall.\",\n",
        "        \"context\": \"ADS maintains a 4-hour rotation for snow plowing in urban zones during active snow conditions. Priority routes such as emergency access roads are cleared first.\"\n",
        "    },\n",
        "    {\n",
        "        \"question\": \"Does ADS provide updates on school closures?\", \n",
        "        \"response\": \"ADS does not directly manage school closures, but the SnowLine app includes integrated updates from local school districts.\",\n",
        "        \"context\": \"While ADS doesn't control school operations, the SnowLine app offers real-time updates from school districts across Alaska, including closures and delays due to weather.\"\n",
        "    },\n",
        "    {\n",
        "        \"question\": \"Is the SnowLine app available on both Android and iOS?\", \n",
        "        \"response\": \"Yes, the SnowLine app is available for free on both the Apple App Store and Google Play Store.\",\n",
        "        \"context\": \"The ADS SnowLine mobile app is available for download on iOS and Android platforms. It provides live road updates, service request tracking, and weather alerts.\"\n",
        "    },\n",
        "    {\n",
        "        \"question\": \"What is the ADS policy on overnight street parking during snowstorms?\", \n",
        "        \"response\": \"During active snow events, overnight street parking is prohibited on primary routes to allow safe plow operations.\",\n",
        "        \"context\": \"ADS enforces a no-parking rule on priority and emergency roads during snowstorms. Violators may be ticketed or towed to ensure uninterrupted plow service.\"\n",
        "    }\n",
        "]"
      ]
    },
    {
      "cell_type": "markdown",
      "id": "735afae7",
      "metadata": {},
      "source": [
        "## Initalization of client"
      ]
    },
    {
      "cell_type": "code",
      "execution_count": null,
      "id": "BVmQwke_ajP9",
      "metadata": {
        "id": "BVmQwke_ajP9"
      },
      "outputs": [],
      "source": [
        "client = genai.Client(\n",
        "      vertexai=True,\n",
        "      project=\"qwiklabs-gcp-02-8fc93094313c\",\n",
        "      location=\"global\",\n",
        "  )"
      ]
    },
    {
      "cell_type": "markdown",
      "id": "u9fIosn8bP7B",
      "metadata": {
        "id": "u9fIosn8bP7B"
      },
      "source": [
        "## System Prompt"
      ]
    },
    {
      "cell_type": "code",
      "execution_count": null,
      "id": "YKw7a4wIapFY",
      "metadata": {
        "id": "YKw7a4wIapFY"
      },
      "outputs": [],
      "source": [
        "data = [\n",
        "    {  \n",
        "        \"Answer the question: \" + item['question'] + \" Context: \" + it['context']\"\n",
        "        \"response\": item[\"post\"],\n",
        "    } for item in samples\n",
        "]\n",
        "\n",
        "eval_dataset = pd.DataFrame(data)"
      ]
    },
    {
      "cell_type": "code",
      "execution_count": null,
      "id": "TUVnJBfZaraN",
      "metadata": {
        "id": "TUVnJBfZaraN"
      },
      "outputs": [],
      "source": [
        "run_ts = datetime.datetime.now().strftime(\"%Y%m%d-%H%M%S\")\n",
        "\n",
        "eval_task = EvalTask(\n",
        "    dataset=eval_dataset,\n",
        "    metrics=[\n",
        "        MetricPromptTemplateExamples.Pointwise.GROUNDEDNESS,\n",
        "        MetricPromptTemplateExamples.Pointwise.VERBOSITY,\n",
        "        MetricPromptTemplateExamples.Pointwise.INSTRUCTION_FOLLOWING,\n",
        "        MetricPromptTemplateExamples.Pointwise.SAFETY\n",
        "    ],\n",
        "    experiment=f\"ads-chatbot-{run_ts}\"\n",
        ")"
      ]
    },
    {
      "cell_type": "code",
      "execution_count": null,
      "id": "klaguWqiauTP",
      "metadata": {
        "id": "klaguWqiauTP"
      },
      "outputs": [],
      "source": [
        "prompt_template = (\n",
        "    \"Instruction: {instruction}. Prompt: {context}. Post: {response}\"\n",
        ")\n",
        "result = eval_task.evaluate(\n",
        "      prompt_template=prompt_template,\n",
        "      experiment_run_name=f\"generate-announcemet-post-{run_ts}\"\n",
        ")\n",
        "evaluation_results = []\n",
        "evaluation_results.append(result)"
      ]
    },
    {
      "cell_type": "markdown",
      "id": "G4CTprzoR7nK",
      "metadata": {
        "id": "G4CTprzoR7nK"
      },
      "source": [
        "Asking the bot for product recommendations based on preferences."
      ]
    },
    {
      "cell_type": "code",
      "execution_count": null,
      "id": "cUanjXJZPH6b",
      "metadata": {
        "colab": {
          "base_uri": "https://localhost:8080/"
        },
        "id": "cUanjXJZPH6b",
        "outputId": "99965319-8ad8-45c3-ce2a-02b760f3f9a5"
      },
      "outputs": [],
      "source": [
        "from vertexai.preview.evaluation import notebook_utils\n",
        "notebook_utils.display_eval_result(eval_result=result)"
      ]
    }
  ],
  "metadata": {
    "colab": {
      "name": "Untitled prompt Jun 16, 2025, 10:30:06 AM",
      "provenance": []
    },
    "kernelspec": {
      "display_name": "Python 3",
      "language": "python",
      "name": "python3"
    },
    "language_info": {
      "codemirror_mode": {
        "name": "ipython",
        "version": 3
      },
      "file_extension": ".py",
      "mimetype": "text/x-python",
      "name": "python",
      "nbconvert_exporter": "python",
      "pygments_lexer": "ipython3",
      "version": "3.10.10"
    }
  },
  "nbformat": 4,
  "nbformat_minor": 5
}
