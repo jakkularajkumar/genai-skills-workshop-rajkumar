{
  "cells": [
    {
      "cell_type": "code",
      "execution_count": null,
      "id": "dgnJeRAOT6HL",
      "metadata": {
        "id": "dgnJeRAOT6HL"
      },
      "outputs": [],
      "source": [
        "#Necessary Libraries to import\n",
        "from google.cloud import bigquery\n",
        "import pandas as pd\n",
        "from vertexai import init\n",
        "from google import genai\n",
        "from google.genai import types\n",
        "import base64\n",
        "PROJECT_ID = \"qwiklabs-gcp-02-8fc93094313c\"\n",
        "client = bigquery.Client(project=PROJECT_ID)\n",
        "init(project=PROJECT_ID, location=\"global\")"
      ]
    },
    {
      "cell_type": "code",
      "execution_count": null,
      "id": "m7YpV1IVULBJ",
      "metadata": {
        "id": "m7YpV1IVULBJ"
      },
      "outputs": [],
      "source": [
        "def create_embedding_model():\n",
        "  query = \"\"\"\n",
        "    CREATE OR REPLACE MODEL `AuroraDS.Embeddings`\n",
        "    REMOTE WITH CONNECTION `us.embedding_conn`\n",
        "    OPTIONS (ENDPOINT = 'text-embedding-005');\n",
        "  \"\"\"\n",
        "  result = client.query(query).result()\n",
        "  print(f\"Embedding model created {result}\")"
      ]
    },
    {
      "cell_type": "code",
      "execution_count": null,
      "id": "RGolnutlUSMR",
      "metadata": {
        "id": "RGolnutlUSMR"
      },
      "outputs": [],
      "source": [
        "def load_faq_data():\n",
        "  query = \"\"\"\n",
        "    LOAD DATA OVERWRITE AuroraDS.qas\n",
        "    (\n",
        "        question STRING,\n",
        "        answer STRING\n",
        "    )\n",
        "    FROM FILES (\n",
        "        format = 'CSV',\n",
        "        uris = ['gs://labs.roitraining.com/alaska-dept-of-snow/alaska-dept-of-snow-faqs.csv']\n",
        "    );\n",
        "  \"\"\"\n",
        "  result = client.query(query).result()\n",
        "  print(f\"Data loaded {result}\")"
      ]
    },
    {
      "cell_type": "code",
      "execution_count": null,
      "id": "R9APfIeqUo6m",
      "metadata": {
        "id": "R9APfIeqUo6m"
      },
      "outputs": [],
      "source": [
        "def create_embeddings():\n",
        "  query = \"\"\"\n",
        "    CREATE OR REPLACE TABLE `AuroraDS.qas_embeddings` AS\n",
        "    SELECT\n",
        "        *\n",
        "    FROM\n",
        "        ML.GENERATE_TEXT_EMBEDDING(\n",
        "            MODEL `AuroraDS.Embeddings`,\n",
        "            (SELECT\n",
        "                question,\n",
        "                answer,\n",
        "                CONCAT(question, ': ', answer) AS content\n",
        "            FROM\n",
        "                `AuroraDS.qas`\n",
        "            )\n",
        "        ) as e;\n",
        "  \"\"\"\n",
        "  result = client.query(query).result()\n",
        "  print(f\"Embeddings created {result}\")"
      ]
    },
    {
      "cell_type": "code",
      "execution_count": null,
      "id": "Pej0mAT-VLWe",
      "metadata": {
        "id": "Pej0mAT-VLWe"
      },
      "outputs": [],
      "source": [
        "def vector_search_data(user_query):\n",
        "    return  f\"\"\"\n",
        "    CREATE OR REPLACE TABLE `AuroraDS.qas` AS\n",
        "    SELECT\n",
        "        query.query,\n",
        "        base.content\n",
        "    FROM\n",
        "        VECTOR_SEARCH(\n",
        "            TABLE `AuroraDS.qas_embeddings`,\n",
        "            'ml_generate_embedding_result',\n",
        "            (\n",
        "                SELECT\n",
        "                    ml_generate_embedding_result,\n",
        "                    content AS query\n",
        "                FROM\n",
        "                    ML.GENERATE_EMBEDDING(\n",
        "                        MODEL `AuroraDS.Embeddings`,\n",
        "                        (SELECT '{user_query}' AS content)\n",
        "                    )\n",
        "            ),\n",
        "            top_k => 5,\n",
        "            options => '{{\"fraction_lists_to_search\": 1.0}}'\n",
        "        );\n",
        "    \"\"\"\n",
        "    client.query(search_sql).result()\n"
      ]
    },
    {
      "cell_type": "code",
      "execution_count": null,
      "id": "IBHP9XCYViYz",
      "metadata": {
        "id": "IBHP9XCYViYz"
      },
      "outputs": [],
      "source": [
        "genai_client = genai.Client(\n",
        "      vertexai=True,\n",
        "      project=PROJECT_ID,\n",
        "      location=\"global\",\n",
        ")"
      ]
    },
    {
      "cell_type": "code",
      "execution_count": null,
      "id": "eg1MDpghVlGX",
      "metadata": {
        "id": "eg1MDpghVlGX"
      },
      "outputs": [],
      "source": [
        "model = \"gemini-2.5-pro-preview-06-05\""
      ]
    },
    {
      "cell_type": "code",
      "execution_count": null,
      "id": "2V5giXGMVnbN",
      "metadata": {
        "colab": {
          "base_uri": "https://localhost:8080/"
        },
        "id": "2V5giXGMVnbN",
        "outputId": "b04c9c16-9ccb-480e-fd6a-4c85fde8943f"
      },
      "outputs": [
        {
          "name": "stdout",
          "output_type": "stream",
          "text": [
            "Embedding model created <google.cloud.bigquery.table._EmptyRowIterator object at 0x7cf15d273190>\n"
          ]
        }
      ],
      "source": [
        "create_embedding_model()"
      ]
    },
    {
      "cell_type": "code",
      "execution_count": null,
      "id": "OodC8vesV8ip",
      "metadata": {
        "id": "OodC8vesV8ip"
      },
      "outputs": [],
      "source": [
        "def generate(system_prompt, user_input):\n",
        "  contents = [\n",
        "    types.Content(\n",
        "      role=\"user\",\n",
        "      parts=[\n",
        "        types.Part.from_text(text=user_input)\n",
        "      ]\n",
        "    ),\n",
        "  ]\n",
        "\n",
        "  generate_content_config = types.GenerateContentConfig(\n",
        "    temperature = 0.9,\n",
        "    top_p = 1,\n",
        "    max_output_tokens = 65535,\n",
        "    system_instruction=[types.Part.from_text(text=system_prompt)],\n",
        "    thinking_config=types.ThinkingConfig(\n",
        "      thinking_budget=-1,\n",
        "    ),\n",
        "  )\n",
        "  data = ''\n",
        "  for chunk in genai_client.models.generate_content_stream(\n",
        "    model = model,\n",
        "    contents = contents,\n",
        "    config = generate_content_config,\n",
        "    ):\n",
        "    data = data + \" \" +chunk.text\n",
        "  return data.strip()"
      ]
    },
    {
      "cell_type": "code",
      "execution_count": null,
      "id": "UmqkNZX8Wz8Q",
      "metadata": {
        "colab": {
          "base_uri": "https://localhost:8080/"
        },
        "id": "UmqkNZX8Wz8Q",
        "outputId": "e4c08b5e-df7a-4e17-dd23-5f6e657fba66"
      },
      "outputs": [
        {
          "name": "stdout",
          "output_type": "stream",
          "text": [
            "Data loaded <google.cloud.bigquery.table._EmptyRowIterator object at 0x7cf162e9bbd0>\n"
          ]
        }
      ],
      "source": [
        "load_faq_data()"
      ]
    },
    {
      "cell_type": "code",
      "execution_count": null,
      "id": "a6O1zZF5XK8j",
      "metadata": {
        "colab": {
          "base_uri": "https://localhost:8080/"
        },
        "id": "a6O1zZF5XK8j",
        "outputId": "1c8ecbab-04ea-4b45-e7e3-dec05b21329e"
      },
      "outputs": [
        {
          "name": "stdout",
          "output_type": "stream",
          "text": [
            "Embeddings created <google.cloud.bigquery.table._EmptyRowIterator object at 0x7cf15d381310>\n"
          ]
        }
      ],
      "source": [
        "create_embeddings()\n"
      ]
    },
    {
      "cell_type": "code",
      "execution_count": null,
      "id": "pDhQMXrG2x_Z",
      "metadata": {
        "id": "pDhQMXrG2x_Z"
      },
      "outputs": [],
      "source": [
        "def gemini_self_check(user_query, response_text):\n",
        "    prompt = f\"\"\"\n",
        "    You are a content safety reviewer for a government chatbot.\n",
        "\n",
        "    Evaluate the following assistant response:\n",
        "    - Is it relevant to the user's question?\n",
        "    - Is it fact-based and appropriate?\n",
        "    - Is it free from harmful or misleading language?\n",
        "\n",
        "    Respond ONLY with one word:\n",
        "    - VALID → if the answer is acceptable\n",
        "    - BLOCK → if it should not be shown to users\n",
        "\n",
        "    Question: {user_query}\n",
        "    Response: {response_text}\n",
        "        \"\"\"\n",
        "    return generate(prompt, response_text)"
      ]
    },
    {
      "cell_type": "code",
      "execution_count": null,
      "id": "h-R90_Y8wner",
      "metadata": {
        "id": "h-R90_Y8wner"
      },
      "outputs": [],
      "source": [
        "def do_prompt_filtering(input):\n",
        "  prompt = f\"\"\"You are a content safety reviewer for a public-facing government chatbot for the Alaska Department of Snow (ADS).\n",
        "  Your job is to evaluate if a user’s question is appropriate and relevant to ADS services. Allow only safe, relevant questions\n",
        "\n",
        "  Flag and reject questions that:\n",
        "  - Include harmful, offensive, or political content\n",
        "  - Ask for private or personal information\n",
        "  - Are not related to ADS services\n",
        "\n",
        "  Evaluate the following question. Respond ONLY with one of:\n",
        "\n",
        "  - \"ALLOW\" (if the question is appropriate)\n",
        "  - \"BLOCK\" (if the question should be rejected)\n",
        "\n",
        "  Question: \"{input}\"\n",
        "  \"\"\"\n",
        "  return generate(prompt, input)"
      ]
    },
    {
      "cell_type": "code",
      "execution_count": null,
      "id": "YgYbLw-kXNIl",
      "metadata": {
        "id": "YgYbLw-kXNIl"
      },
      "outputs": [],
      "source": [
        "def ads_chatbot(user_input):\n",
        "  filter = do_prompt_filtering(user_input).strip().upper()\n",
        "  if filter == \"BLOCK\":\n",
        "    return 'Invalid prompt'\n",
        "  vector_search_data(user_input)\n",
        "  result_df = client.query(\"SELECT * FROM `AuroraDS.qas`\").to_dataframe()\n",
        "\n",
        "  system_prompt = \"\"\"You are an assistant for Aurora Department of snow. Answer clearly and professionally using only the provided context. If the answer isn’t supported by the context, respond with: “Not able to answer your query. And always great him with hello or hi, and also all the time just say i am getting information, and at last reply like 'anything else i can help you with?'”'\\n\\n\"\"\"\n",
        "  for idx, row in result_df.iterrows():\n",
        "      system_prompt += f\"FAQ {idx+1}:\\nQ: {row['question']}\\nA: {row['answer']}\\n\\n\"\n",
        "\n",
        "  response = generate(system_prompt, user_input)\n",
        "  if gemini_self_check(user_input, response) == 'BLOCK':\n",
        "    return 'Response is invalid'\n",
        "  return response\n"
      ]
    },
    {
      "cell_type": "code",
      "execution_count": null,
      "id": "Y7TF43ijX1MM",
      "metadata": {
        "colab": {
          "base_uri": "https://localhost:8080/"
        },
        "id": "Y7TF43ijX1MM",
        "outputId": "f0817ded-b12e-4a00-a51b-4033a4f08c5c"
      },
      "outputs": [
        {
          "name": "stdout",
          "output_type": "stream",
          "text": [
            "Invalid prompt\n"
          ]
        }
      ],
      "source": [
        "  print(ads_chatbot(\"where is bay located\"))"
      ]
    },
    {
      "cell_type": "code",
      "execution_count": null,
      "id": "-RujbL2KYDXU",
      "metadata": {
        "colab": {
          "base_uri": "https://localhost:8080/",
          "height": 53
        },
        "id": "-RujbL2KYDXU",
        "outputId": "58dee488-4350-4978-d1b2-6c18dc5d1a09"
      },
      "outputs": [
        {
          "data": {
            "application/vnd.google.colaboratory.intrinsic+json": {
              "type": "string"
            },
            "text/plain": [
              "'Hi, i am getting information.\\n\\nADS serves approximately 750,000 people across Alaska’s widely distributed communities and remote areas.\\n\\nanything else i can  help you with?'"
            ]
          },
          "execution_count": 362,
          "metadata": {},
          "output_type": "execute_result"
        }
      ],
      "source": [
        "ads_chatbot('How many people does ADS serve?')"
      ]
    },
    {
      "cell_type": "code",
      "execution_count": null,
      "id": "GlE_5HP6a7mS",
      "metadata": {
        "id": "GlE_5HP6a7mS"
      },
      "outputs": [],
      "source": [
        "import pytest"
      ]
    },
    {
      "cell_type": "code",
      "execution_count": null,
      "id": "un5O0NVL4dnS",
      "metadata": {
        "id": "un5O0NVL4dnS"
      },
      "outputs": [],
      "source": [
        "def test_do_prompt_filtering():\n",
        "    input = \"where is bay located\"\n",
        "    response = do_prompt_filtering(input)\n",
        "    assert response == \"BLOCK\"\n",
        "\n",
        "def test_do_prompt_filtering_postive_flow():\n",
        "    input = \"How many people does ADS serve?\"\n",
        "    response = do_prompt_filtering(input)\n",
        "    assert response == \"ALLOW\"\n",
        "\n",
        "def test_gemini_self_check():\n",
        "    response = \"ADS serves approximately 750,000 people across Alaska’s widely distributed communities and remote areas.\"\n",
        "    category = gemini_self_check(\"How many people does ADS serve?\",response)\n",
        "    assert  category == \"ALLOW\""
      ]
    },
    {
      "cell_type": "code",
      "execution_count": null,
      "id": "o6hapotE5k6Z",
      "metadata": {
        "colab": {
          "base_uri": "https://localhost:8080/",
          "height": 269
        },
        "id": "o6hapotE5k6Z",
        "outputId": "84bd6efd-4c4d-4c6c-a189-5bb5e3072368"
      },
      "outputs": [
        {
          "ename": "AssertionError",
          "evalue": "",
          "output_type": "error",
          "traceback": [
            "\u001b[0;31m---------------------------------------------------------------------------\u001b[0m",
            "\u001b[0;31mAssertionError\u001b[0m                            Traceback (most recent call last)",
            "\u001b[0;32m<ipython-input-375-c0868a102c0c>\u001b[0m in \u001b[0;36m<cell line: 0>\u001b[0;34m()\u001b[0m\n\u001b[1;32m      1\u001b[0m \u001b[0mtest_do_prompt_filtering\u001b[0m\u001b[0;34m(\u001b[0m\u001b[0;34m)\u001b[0m\u001b[0;34m\u001b[0m\u001b[0;34m\u001b[0m\u001b[0m\n\u001b[1;32m      2\u001b[0m \u001b[0mtest_do_prompt_filtering_postive_flow\u001b[0m\u001b[0;34m(\u001b[0m\u001b[0;34m)\u001b[0m\u001b[0;34m\u001b[0m\u001b[0;34m\u001b[0m\u001b[0m\n\u001b[0;32m----> 3\u001b[0;31m \u001b[0mtest_gemini_self_check\u001b[0m\u001b[0;34m(\u001b[0m\u001b[0;34m)\u001b[0m\u001b[0;34m\u001b[0m\u001b[0;34m\u001b[0m\u001b[0m\n\u001b[0m",
            "\u001b[0;32m<ipython-input-373-fe5b77c92404>\u001b[0m in \u001b[0;36mtest_gemini_self_check\u001b[0;34m()\u001b[0m\n\u001b[1;32m     12\u001b[0m     \u001b[0mresponse\u001b[0m \u001b[0;34m=\u001b[0m \u001b[0;34m\"ADS serves approximately 750,000 people across Alaska’s widely distributed communities and remote areas.\"\u001b[0m\u001b[0;34m\u001b[0m\u001b[0;34m\u001b[0m\u001b[0m\n\u001b[1;32m     13\u001b[0m     \u001b[0mcategory\u001b[0m \u001b[0;34m=\u001b[0m \u001b[0mgemini_self_check\u001b[0m\u001b[0;34m(\u001b[0m\u001b[0;34m\"How many people does ADS serve?\"\u001b[0m\u001b[0;34m,\u001b[0m\u001b[0mresponse\u001b[0m\u001b[0;34m)\u001b[0m\u001b[0;34m\u001b[0m\u001b[0;34m\u001b[0m\u001b[0m\n\u001b[0;32m---> 14\u001b[0;31m     \u001b[0;32massert\u001b[0m  \u001b[0mcategory\u001b[0m \u001b[0;34m==\u001b[0m \u001b[0;34m\"ALLOW\"\u001b[0m\u001b[0;34m\u001b[0m\u001b[0;34m\u001b[0m\u001b[0m\n\u001b[0m",
            "\u001b[0;31mAssertionError\u001b[0m: "
          ]
        }
      ],
      "source": [
        "test_do_prompt_filtering()\n",
        "test_do_prompt_filtering_postive_flow()\n",
        "test_gemini_self_check()"
      ]
    }
  ],
  "metadata": {
    "colab": {
      "name": "student-03-6dea000b55fb (Jun 17, 2025, 10:44:20 AM)",
      "provenance": []
    },
    "kernelspec": {
      "display_name": "Python 3",
      "language": "python",
      "name": "python3"
    },
    "language_info": {
      "codemirror_mode": {
        "name": "ipython",
        "version": 3
      },
      "file_extension": ".py",
      "mimetype": "text/x-python",
      "name": "python",
      "nbconvert_exporter": "python",
      "pygments_lexer": "ipython3",
      "version": "3.10.10"
    }
  },
  "nbformat": 4,
  "nbformat_minor": 5
}
